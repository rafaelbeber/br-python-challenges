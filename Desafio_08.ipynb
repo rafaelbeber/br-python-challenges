{
  "nbformat": 4,
  "nbformat_minor": 0,
  "metadata": {
    "anaconda-cloud": {},
    "kernelspec": {
      "display_name": "Python 3",
      "language": "python",
      "name": "python3"
    },
    "language_info": {
      "codemirror_mode": {
        "name": "ipython",
        "version": 3
      },
      "file_extension": ".py",
      "mimetype": "text/x-python",
      "name": "python",
      "nbconvert_exporter": "python",
      "pygments_lexer": "ipython3",
      "version": "3.6.5"
    },
    "colab": {
      "name": "Desafio_08.ipynb",
      "provenance": [],
      "toc_visible": true,
      "include_colab_link": true
    }
  },
  "cells": [
    {
      "cell_type": "markdown",
      "metadata": {
        "id": "view-in-github",
        "colab_type": "text"
      },
      "source": [
        "<a href=\"https://colab.research.google.com/github/rafaelbeber/br-python-challenges/blob/master/Desafio_08.ipynb\" target=\"_parent\"><img src=\"https://colab.research.google.com/assets/colab-badge.svg\" alt=\"Open In Colab\"/></a>"
      ]
    },
    {
      "cell_type": "markdown",
      "metadata": {
        "id": "o3tkeMDNf6Jo"
      },
      "source": [
        "### Desafio 8\n",
        "\n",
        "Escreva um script Python para encontrar as 10 palavras mais longas em um arquivo.\n",
        "\n",
        "O arquivo TXT está localizado na mesma pasta do projeto (texto.txt)."
      ]
    },
    {
      "cell_type": "code",
      "metadata": {
        "id": "EknxjSG0f6Jo",
        "outputId": "fad67cb8-f13a-4dda-9ed8-74320e58f16c",
        "colab": {
          "base_uri": "https://localhost:8080/",
          "height": 187
        }
      },
      "source": [
        "# Seu código\n",
        "import collections\n",
        "import re\n",
        "\n",
        "#abre arquvio texto\n",
        "arquivo_txt = open('texto.txt', 'r')\n",
        "\n",
        "#remove caracteres especias, exceto o espaço\n",
        "texto = re.sub('[^0-9a-zA-Z ]+', '', arquivo_txt.read())\n",
        "\n",
        "#quebra o texto em palavras\n",
        "palavras = texto.split()\n",
        "\n",
        "#remove palavras duplicadas\n",
        "palavras_unicas = collections.Counter(palavras)\n",
        "\n",
        "#orgazina a lista pelo tamanho das palavras de forma crescente\n",
        "lista_organizada = sorted(palavras_unicas, key=len)\n",
        "\n",
        "#pega as 10 ultimas palavras da lista\n",
        "dez_mais_longas = lista_organizada[len(lista_organizada)-10: len(lista_organizada)]\n",
        "\n",
        "dez_mais_longas\n"
      ],
      "execution_count": 26,
      "outputs": [
        {
          "output_type": "execute_result",
          "data": {
            "text/plain": [
              "['libraryThe',\n",
              " 'interpreted',\n",
              " 'programming',\n",
              " 'languageIts',\n",
              " 'readability',\n",
              " 'programmers',\n",
              " 'intermediate',\n",
              " 'comprehensive',\n",
              " 'generalpurpose',\n",
              " 'objectoriented']"
            ]
          },
          "metadata": {
            "tags": []
          },
          "execution_count": 26
        }
      ]
    },
    {
      "cell_type": "code",
      "metadata": {
        "id": "ZYbqEWBG5nKx"
      },
      "source": [
        ""
      ],
      "execution_count": null,
      "outputs": []
    }
  ]
}