{
  "nbformat": 4,
  "nbformat_minor": 0,
  "metadata": {
    "anaconda-cloud": {},
    "kernelspec": {
      "display_name": "Python 3",
      "language": "python",
      "name": "python3"
    },
    "language_info": {
      "codemirror_mode": {
        "name": "ipython",
        "version": 3
      },
      "file_extension": ".py",
      "mimetype": "text/x-python",
      "name": "python",
      "nbconvert_exporter": "python",
      "pygments_lexer": "ipython3",
      "version": "3.6.5"
    },
    "colab": {
      "name": "Desafio_12.ipynb",
      "provenance": [],
      "include_colab_link": true
    }
  },
  "cells": [
    {
      "cell_type": "markdown",
      "metadata": {
        "id": "view-in-github",
        "colab_type": "text"
      },
      "source": [
        "<a href=\"https://colab.research.google.com/github/rafaelbeber/br-python-challenges/blob/master/Desafio_12.ipynb\" target=\"_parent\"><img src=\"https://colab.research.google.com/assets/colab-badge.svg\" alt=\"Open In Colab\"/></a>"
      ]
    },
    {
      "cell_type": "markdown",
      "metadata": {
        "id": "AYHY2YXQf6J2"
      },
      "source": [
        "### Desafio 12\n",
        "\n",
        "Escreva uma função em Python para verificar a validade de uma senha.\n",
        "\n",
        "Validação:\n",
        "\n",
        "* Pelo menos 1 letra entre [a-z] e 1 letra entre [A-Z].\n",
        "* Pelo menos 1 número entre [0-9].\n",
        "* Pelo menos 1 caractere de [$ # @].\n",
        "* Comprimento mínimo de 6 caracteres.\n",
        "* Comprimento máximo de 16 caracteres.\n",
        "\n",
        "Entradas: \"12345678\", \"J3sus0\", \"#Te5t300\", \"J*90j12374\", \"Michheeul\", \"Monk3y6\"\n",
        "\n",
        "A saída deve ser a senha e um texto indicando se a senha é válida ou inválida:\n",
        "\n",
        "```\n",
        "\"1234\" - Senha inválida\n",
        "\"Qw#1234\" - Senha válida\n",
        "```"
      ]
    },
    {
      "cell_type": "code",
      "metadata": {
        "id": "UGgtGYGGf6J3",
        "outputId": "1a7eee59-26cb-457a-fbaf-45450302fda8",
        "colab": {
          "base_uri": "https://localhost:8080/",
          "height": 119
        }
      },
      "source": [
        "# Seu código\n",
        "\n",
        "import re\n",
        "def test_password(password):\n",
        " \n",
        "  min_num = 1\n",
        "  min_maiscula = 1\n",
        "  min_minusula = 1\n",
        "  min_especial = 1\n",
        "  min_tamanho = 6\n",
        "  max_tamanho = 16\n",
        " \n",
        "  if len(password) >= min_tamanho:\n",
        "    if len(password) <= max_tamanho:\n",
        "      if len(re.findall(r\"[A-Z]\", password)) >= min_maiscula:\n",
        "        if len(re.findall(r\"[a-z]\", password)) >= min_minusula:\n",
        "          if len(re.findall(r\"[0–9]\", password)) >= min_num:\n",
        "            if len(re.findall(r\"[@#$]\", password)) >= min_especial:\n",
        "              print('senha válida')\n",
        "            else:\n",
        "              print('senha inválida')\n",
        "          else:\n",
        "            print('senha inválida')\n",
        "        else:\n",
        "          print('senha inválida')\n",
        "      else:\n",
        "        print('senha inválida')\n",
        "    else:\n",
        "      print('senha inválida')\n",
        "  else:\n",
        "    print('senha inválida')\n",
        " \n",
        "test_password(\"12345678\")\n",
        "test_password(\"J3sus0\")\n",
        "test_password(\"#Te5t300\")\n",
        "test_password(\"J*90j12374\")\n",
        "test_password(\"Michheeul\")\n",
        "test_password(\"Monk3y6\")"
      ],
      "execution_count": 2,
      "outputs": [
        {
          "output_type": "stream",
          "text": [
            "senha inválida\n",
            "senha inválida\n",
            "senha válida\n",
            "senha inválida\n",
            "senha inválida\n",
            "senha inválida\n"
          ],
          "name": "stdout"
        }
      ]
    },
    {
      "cell_type": "code",
      "metadata": {
        "id": "n8F01NzD9uHm"
      },
      "source": [
        ""
      ],
      "execution_count": null,
      "outputs": []
    }
  ]
}